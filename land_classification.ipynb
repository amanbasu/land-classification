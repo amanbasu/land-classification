{
 "cells": [
  {
   "cell_type": "code",
   "execution_count": 1,
   "metadata": {
    "collapsed": false
   },
   "outputs": [],
   "source": [
    "import pandas as pd\n",
    "import numpy as np\n",
    "import seaborn as sns\n",
    "import matplotlib.pyplot as plt"
   ]
  },
  {
   "cell_type": "code",
   "execution_count": 2,
   "metadata": {
    "collapsed": true
   },
   "outputs": [],
   "source": [
    "df = pd.read_csv('land_train.csv') # loading the dataset"
   ]
  },
  {
   "cell_type": "code",
   "execution_count": 3,
   "metadata": {
    "collapsed": false
   },
   "outputs": [
    {
     "data": {
      "text/html": [
       "<div>\n",
       "<style scoped>\n",
       "    .dataframe tbody tr th:only-of-type {\n",
       "        vertical-align: middle;\n",
       "    }\n",
       "\n",
       "    .dataframe tbody tr th {\n",
       "        vertical-align: top;\n",
       "    }\n",
       "\n",
       "    .dataframe thead th {\n",
       "        text-align: right;\n",
       "    }\n",
       "</style>\n",
       "<table border=\"1\" class=\"dataframe\">\n",
       "  <thead>\n",
       "    <tr style=\"text-align: right;\">\n",
       "      <th></th>\n",
       "      <th>X1</th>\n",
       "      <th>X2</th>\n",
       "      <th>X3</th>\n",
       "      <th>X4</th>\n",
       "      <th>X5</th>\n",
       "      <th>X6</th>\n",
       "      <th>I1</th>\n",
       "      <th>I2</th>\n",
       "      <th>I3</th>\n",
       "      <th>I4</th>\n",
       "      <th>I5</th>\n",
       "      <th>I6</th>\n",
       "      <th>clusterID</th>\n",
       "      <th>target</th>\n",
       "    </tr>\n",
       "  </thead>\n",
       "  <tbody>\n",
       "    <tr>\n",
       "      <th>0</th>\n",
       "      <td>207</td>\n",
       "      <td>373</td>\n",
       "      <td>267</td>\n",
       "      <td>1653</td>\n",
       "      <td>886</td>\n",
       "      <td>408</td>\n",
       "      <td>0.721875</td>\n",
       "      <td>-1.023962</td>\n",
       "      <td>2.750628</td>\n",
       "      <td>0.530316</td>\n",
       "      <td>0.208889</td>\n",
       "      <td>0.302087</td>\n",
       "      <td>6</td>\n",
       "      <td>1</td>\n",
       "    </tr>\n",
       "    <tr>\n",
       "      <th>1</th>\n",
       "      <td>194</td>\n",
       "      <td>369</td>\n",
       "      <td>241</td>\n",
       "      <td>1539</td>\n",
       "      <td>827</td>\n",
       "      <td>364</td>\n",
       "      <td>0.729213</td>\n",
       "      <td>-1.030143</td>\n",
       "      <td>2.668501</td>\n",
       "      <td>0.546537</td>\n",
       "      <td>0.203306</td>\n",
       "      <td>0.300930</td>\n",
       "      <td>6</td>\n",
       "      <td>1</td>\n",
       "    </tr>\n",
       "    <tr>\n",
       "      <th>2</th>\n",
       "      <td>214</td>\n",
       "      <td>385</td>\n",
       "      <td>264</td>\n",
       "      <td>1812</td>\n",
       "      <td>850</td>\n",
       "      <td>381</td>\n",
       "      <td>0.745665</td>\n",
       "      <td>-1.107047</td>\n",
       "      <td>3.000315</td>\n",
       "      <td>0.546156</td>\n",
       "      <td>0.181395</td>\n",
       "      <td>0.361382</td>\n",
       "      <td>6</td>\n",
       "      <td>1</td>\n",
       "    </tr>\n",
       "    <tr>\n",
       "      <th>3</th>\n",
       "      <td>212</td>\n",
       "      <td>388</td>\n",
       "      <td>293</td>\n",
       "      <td>1882</td>\n",
       "      <td>912</td>\n",
       "      <td>402</td>\n",
       "      <td>0.730575</td>\n",
       "      <td>-1.077747</td>\n",
       "      <td>3.006150</td>\n",
       "      <td>0.530083</td>\n",
       "      <td>0.156835</td>\n",
       "      <td>0.347172</td>\n",
       "      <td>6</td>\n",
       "      <td>1</td>\n",
       "    </tr>\n",
       "    <tr>\n",
       "      <th>4</th>\n",
       "      <td>249</td>\n",
       "      <td>411</td>\n",
       "      <td>332</td>\n",
       "      <td>1773</td>\n",
       "      <td>1048</td>\n",
       "      <td>504</td>\n",
       "      <td>0.684561</td>\n",
       "      <td>-0.941562</td>\n",
       "      <td>2.713079</td>\n",
       "      <td>0.494370</td>\n",
       "      <td>0.205742</td>\n",
       "      <td>0.257001</td>\n",
       "      <td>6</td>\n",
       "      <td>1</td>\n",
       "    </tr>\n",
       "  </tbody>\n",
       "</table>\n",
       "</div>"
      ],
      "text/plain": [
       "    X1   X2   X3    X4    X5   X6        I1        I2        I3        I4  \\\n",
       "0  207  373  267  1653   886  408  0.721875 -1.023962  2.750628  0.530316   \n",
       "1  194  369  241  1539   827  364  0.729213 -1.030143  2.668501  0.546537   \n",
       "2  214  385  264  1812   850  381  0.745665 -1.107047  3.000315  0.546156   \n",
       "3  212  388  293  1882   912  402  0.730575 -1.077747  3.006150  0.530083   \n",
       "4  249  411  332  1773  1048  504  0.684561 -0.941562  2.713079  0.494370   \n",
       "\n",
       "         I5        I6  clusterID  target  \n",
       "0  0.208889  0.302087          6       1  \n",
       "1  0.203306  0.300930          6       1  \n",
       "2  0.181395  0.361382          6       1  \n",
       "3  0.156835  0.347172          6       1  \n",
       "4  0.205742  0.257001          6       1  "
      ]
     },
     "execution_count": 3,
     "metadata": {},
     "output_type": "execute_result"
    }
   ],
   "source": [
    "df.head()"
   ]
  },
  {
   "cell_type": "code",
   "execution_count": 4,
   "metadata": {
    "collapsed": false
   },
   "outputs": [
    {
     "data": {
      "text/plain": [
       "(48800, 14)"
      ]
     },
     "execution_count": 4,
     "metadata": {},
     "output_type": "execute_result"
    }
   ],
   "source": [
    "dfs = df.sample(frac=0.1).reset_index(drop=True) # shuffles the data and takes a fraction of it\n",
    "dfs.shape"
   ]
  },
  {
   "cell_type": "markdown",
   "metadata": {},
   "source": [
    "# Column level preprocessing\n",
    "### Scatter Plot"
   ]
  },
  {
   "cell_type": "code",
   "execution_count": 93,
   "metadata": {
    "collapsed": false
   },
   "outputs": [
    {
     "data": {
      "image/png": "[encoded data removed]",
      "text/plain": [
       "<Figure size 1224x720 with 144 Axes>"
      ]
     },
     "metadata": {},
     "output_type": "display_data"
    }
   ],
   "source": [
    "# scatter plot of a part of data\n",
    "pd.plotting.scatter_matrix(dfs[['X1', 'X2', 'X3', 'X4', 'X5', 'X6', 'I1', 'I2', 'I3', 'I4', 'I5', 'I6']], figsize=(17,10));"
   ]
  },
  {
   "cell_type": "markdown",
   "metadata": {},
   "source": [
    "### Correlation Plot"
   ]
  },
  {
   "cell_type": "code",
   "execution_count": 103,
   "metadata": {
    "collapsed": false
   },
   "outputs": [
    {
     "data": {
      "image/png": "[encoded data removed]",
      "text/plain": [
       "<Figure size 792x648 with 2 Axes>"
      ]
     },
     "metadata": {},
     "output_type": "display_data"
    }
   ],
   "source": [
    "import seaborn as sns\n",
    "sns.set(style=\"white\")\n",
    "\n",
    "# finding correlation\n",
    "corr = df[['X1', 'X2', 'X3', 'X4', 'X5', 'X6', 'I1', 'I2', 'I3', 'I4', 'I5', 'I6']].corr()\n",
    "\n",
    "# Generate a mask for the upper triangle\n",
    "mask = np.zeros_like(corr, dtype=np.bool)\n",
    "mask[np.triu_indices_from(mask)] = True\n",
    "\n",
    "# Set up the matplotlib figure\n",
    "f, ax = plt.subplots(figsize=(11, 9))\n",
    "\n",
    "# Generate a custom diverging colormap\n",
    "cmap = sns.diverging_palette(220, 10, as_cmap=True)\n",
    "\n",
    "# Draw the heatmap with the mask and correct aspect ratio\n",
    "sns.heatmap(corr, mask=mask, cmap=cmap, vmax=1, center=0.5, square=True, linewidths=.5, cbar_kws={\"shrink\": .5});"
   ]
  },
  {
   "cell_type": "markdown",
   "metadata": {},
   "source": [
    "From the scatter plot and correlation plot, we can conclude that-\n",
    "- The $X$ features are almost linearly correlated with each other. Moreover, they show similar correlation with $I$ features. Therefore, we can merge them into one (average).\n",
    "- $I5$ is almost constant and shows less variance (see the histogram). Therefore, it can be dropped.\n",
    "- $I1$ and $I4$ are highly correlated. They can be merged (average).\n",
    "- $I2$ shows inverse correlation with $I1$. It can be dropped.\n",
    "\n",
    "Remaining columns: $X$<sub>avg</sub>, $I$<sub>14</sub>, $I$<sub>3</sub>, $I$<sub>6</sub>. \n",
    "\n",
    "#### Note: Highly correlated columns are dropped since they provide no extra information to the model and hampers the performance."
   ]
  },
  {
   "cell_type": "markdown",
   "metadata": {},
   "source": [
    "### Selecting features"
   ]
  },
  {
   "cell_type": "code",
   "execution_count": 114,
   "metadata": {
    "collapsed": false
   },
   "outputs": [],
   "source": [
    "# preprocessing columns\n",
    "df['X'] = df[['X1', 'X2', 'X3', 'X4', 'X5', 'X6']].mean(axis=1) # merging all X features in one\n",
    "df = df.drop(['X1', 'X2', 'X3', 'X4', 'X5', 'X6'], axis=1)      # dropping the rest\n",
    "df['I14'] = df[['I1', 'I4']].mean(axis=1)                       # averaging I1 and I4\n",
    "df = df.drop(['I1', 'I4', 'I2', 'I5'], axis=1)                  # dropping the rest"
   ]
  },
  {
   "cell_type": "code",
   "execution_count": 115,
   "metadata": {
    "collapsed": false
   },
   "outputs": [
    {
     "data": {
      "text/html": [
       "<div>\n",
       "<style scoped>\n",
       "    .dataframe tbody tr th:only-of-type {\n",
       "        vertical-align: middle;\n",
       "    }\n",
       "\n",
       "    .dataframe tbody tr th {\n",
       "        vertical-align: top;\n",
       "    }\n",
       "\n",
       "    .dataframe thead th {\n",
       "        text-align: right;\n",
       "    }\n",
       "</style>\n",
       "<table border=\"1\" class=\"dataframe\">\n",
       "  <thead>\n",
       "    <tr style=\"text-align: right;\">\n",
       "      <th></th>\n",
       "      <th>I3</th>\n",
       "      <th>I6</th>\n",
       "      <th>clusterID</th>\n",
       "      <th>target</th>\n",
       "      <th>X</th>\n",
       "      <th>I14</th>\n",
       "    </tr>\n",
       "  </thead>\n",
       "  <tbody>\n",
       "    <tr>\n",
       "      <th>0</th>\n",
       "      <td>2.750628</td>\n",
       "      <td>0.302087</td>\n",
       "      <td>6</td>\n",
       "      <td>1</td>\n",
       "      <td>632.333333</td>\n",
       "      <td>0.626095</td>\n",
       "    </tr>\n",
       "    <tr>\n",
       "      <th>1</th>\n",
       "      <td>2.668501</td>\n",
       "      <td>0.300930</td>\n",
       "      <td>6</td>\n",
       "      <td>1</td>\n",
       "      <td>589.000000</td>\n",
       "      <td>0.637875</td>\n",
       "    </tr>\n",
       "    <tr>\n",
       "      <th>2</th>\n",
       "      <td>3.000315</td>\n",
       "      <td>0.361382</td>\n",
       "      <td>6</td>\n",
       "      <td>1</td>\n",
       "      <td>651.000000</td>\n",
       "      <td>0.645910</td>\n",
       "    </tr>\n",
       "    <tr>\n",
       "      <th>3</th>\n",
       "      <td>3.006150</td>\n",
       "      <td>0.347172</td>\n",
       "      <td>6</td>\n",
       "      <td>1</td>\n",
       "      <td>681.500000</td>\n",
       "      <td>0.630329</td>\n",
       "    </tr>\n",
       "    <tr>\n",
       "      <th>4</th>\n",
       "      <td>2.713079</td>\n",
       "      <td>0.257001</td>\n",
       "      <td>6</td>\n",
       "      <td>1</td>\n",
       "      <td>719.500000</td>\n",
       "      <td>0.589465</td>\n",
       "    </tr>\n",
       "  </tbody>\n",
       "</table>\n",
       "</div>"
      ],
      "text/plain": [
       "         I3        I6  clusterID  target           X       I14\n",
       "0  2.750628  0.302087          6       1  632.333333  0.626095\n",
       "1  2.668501  0.300930          6       1  589.000000  0.637875\n",
       "2  3.000315  0.361382          6       1  651.000000  0.645910\n",
       "3  3.006150  0.347172          6       1  681.500000  0.630329\n",
       "4  2.713079  0.257001          6       1  719.500000  0.589465"
      ]
     },
     "execution_count": 115,
     "metadata": {},
     "output_type": "execute_result"
    }
   ],
   "source": [
    "df.head()"
   ]
  },
  {
   "cell_type": "code",
   "execution_count": 117,
   "metadata": {
    "collapsed": true
   },
   "outputs": [],
   "source": [
    "# df.to_csv('land_train_pruned.csv', index=False) # saving the data"
   ]
  },
  {
   "cell_type": "markdown",
   "metadata": {},
   "source": [
    "# Row level preprocessing"
   ]
  },
  {
   "cell_type": "code",
   "execution_count": 185,
   "metadata": {
    "collapsed": false
   },
   "outputs": [
    {
     "data": {
      "text/html": [
       "<div>\n",
       "<style scoped>\n",
       "    .dataframe tbody tr th:only-of-type {\n",
       "        vertical-align: middle;\n",
       "    }\n",
       "\n",
       "    .dataframe tbody tr th {\n",
       "        vertical-align: top;\n",
       "    }\n",
       "\n",
       "    .dataframe thead th {\n",
       "        text-align: right;\n",
       "    }\n",
       "</style>\n",
       "<table border=\"1\" class=\"dataframe\">\n",
       "  <thead>\n",
       "    <tr style=\"text-align: right;\">\n",
       "      <th></th>\n",
       "      <th>I3</th>\n",
       "      <th>I6</th>\n",
       "      <th>clusterID</th>\n",
       "      <th>target</th>\n",
       "      <th>X</th>\n",
       "      <th>I14</th>\n",
       "    </tr>\n",
       "  </thead>\n",
       "  <tbody>\n",
       "    <tr>\n",
       "      <th>count</th>\n",
       "      <td>487998.000000</td>\n",
       "      <td>487998.000000</td>\n",
       "      <td>487998.000000</td>\n",
       "      <td>487998.000000</td>\n",
       "      <td>487998.000000</td>\n",
       "      <td>487998.000000</td>\n",
       "    </tr>\n",
       "    <tr>\n",
       "      <th>mean</th>\n",
       "      <td>1.602914</td>\n",
       "      <td>0.098514</td>\n",
       "      <td>4.180263</td>\n",
       "      <td>1.062301</td>\n",
       "      <td>2567.438750</td>\n",
       "      <td>0.295633</td>\n",
       "    </tr>\n",
       "    <tr>\n",
       "      <th>std</th>\n",
       "      <td>1.106819</td>\n",
       "      <td>0.147183</td>\n",
       "      <td>1.645535</td>\n",
       "      <td>0.350805</td>\n",
       "      <td>1840.983848</td>\n",
       "      <td>0.250844</td>\n",
       "    </tr>\n",
       "    <tr>\n",
       "      <th>min</th>\n",
       "      <td>-0.177197</td>\n",
       "      <td>-0.297521</td>\n",
       "      <td>1.000000</td>\n",
       "      <td>1.000000</td>\n",
       "      <td>-83.666667</td>\n",
       "      <td>-0.848529</td>\n",
       "    </tr>\n",
       "    <tr>\n",
       "      <th>25%</th>\n",
       "      <td>0.694444</td>\n",
       "      <td>0.016150</td>\n",
       "      <td>3.000000</td>\n",
       "      <td>1.000000</td>\n",
       "      <td>1015.000000</td>\n",
       "      <td>0.067379</td>\n",
       "    </tr>\n",
       "    <tr>\n",
       "      <th>50%</th>\n",
       "      <td>1.267495</td>\n",
       "      <td>0.056333</td>\n",
       "      <td>3.000000</td>\n",
       "      <td>1.000000</td>\n",
       "      <td>1839.000000</td>\n",
       "      <td>0.188264</td>\n",
       "    </tr>\n",
       "    <tr>\n",
       "      <th>75%</th>\n",
       "      <td>2.430122</td>\n",
       "      <td>0.161845</td>\n",
       "      <td>6.000000</td>\n",
       "      <td>1.000000</td>\n",
       "      <td>4015.666667</td>\n",
       "      <td>0.515738</td>\n",
       "    </tr>\n",
       "    <tr>\n",
       "      <th>max</th>\n",
       "      <td>5.663032</td>\n",
       "      <td>0.662566</td>\n",
       "      <td>8.000000</td>\n",
       "      <td>4.000000</td>\n",
       "      <td>10682.333333</td>\n",
       "      <td>5.755439</td>\n",
       "    </tr>\n",
       "  </tbody>\n",
       "</table>\n",
       "</div>"
      ],
      "text/plain": [
       "                  I3             I6      clusterID         target  \\\n",
       "count  487998.000000  487998.000000  487998.000000  487998.000000   \n",
       "mean        1.602914       0.098514       4.180263       1.062301   \n",
       "std         1.106819       0.147183       1.645535       0.350805   \n",
       "min        -0.177197      -0.297521       1.000000       1.000000   \n",
       "25%         0.694444       0.016150       3.000000       1.000000   \n",
       "50%         1.267495       0.056333       3.000000       1.000000   \n",
       "75%         2.430122       0.161845       6.000000       1.000000   \n",
       "max         5.663032       0.662566       8.000000       4.000000   \n",
       "\n",
       "                   X            I14  \n",
       "count  487998.000000  487998.000000  \n",
       "mean     2567.438750       0.295633  \n",
       "std      1840.983848       0.250844  \n",
       "min       -83.666667      -0.848529  \n",
       "25%      1015.000000       0.067379  \n",
       "50%      1839.000000       0.188264  \n",
       "75%      4015.666667       0.515738  \n",
       "max     10682.333333       5.755439  "
      ]
     },
     "execution_count": 185,
     "metadata": {},
     "output_type": "execute_result"
    }
   ],
   "source": [
    "df.describe()"
   ]
  },
  {
   "cell_type": "code",
   "execution_count": 186,
   "metadata": {
    "collapsed": false,
    "scrolled": true
   },
   "outputs": [
    {
     "data": {
      "image/png": "[encoded data removed]",
      "text/plain": [
       "<Figure size 576x396 with 1 Axes>"
      ]
     },
     "metadata": {},
     "output_type": "display_data"
    }
   ],
   "source": [
    "df.target.value_counts().plot('bar');"
   ]
  },
  {
   "cell_type": "markdown",
   "metadata": {},
   "source": [
    "Samples per example: <br>\n",
    "1: 472987 (97%) <br>\n",
    "2: 0 <br>\n",
    "3: 14630 <br>\n",
    "4: 381 <hr>\n",
    "This clearly shows the imbalance in classes. While training on such data even if the model predits <b>class 1</b> everytime, the accuracy will be 97%.\n",
    "Therefore, we need to balance the classes and for this, the approach used is given below.\n",
    "\n",
    "- Due to very less samples in Class 4, it can be removed.\n",
    "- Class 1 can be divided randomly into 10 subparts (Samples in each part - 47300).\n",
    "- Class 3 can be duplicated 2 times (Samples - 43890).\n",
    "- Trian 10 separate classification models with one part of Class 1 each along with same Class 3 samples in each model.\n",
    "- Take the average of all models while testing."
   ]
  },
  {
   "cell_type": "markdown",
   "metadata": {},
   "source": [
    "### Normalizing features"
   ]
  },
  {
   "cell_type": "code",
   "execution_count": 190,
   "metadata": {
    "collapsed": false
   },
   "outputs": [],
   "source": [
    "from sklearn import preprocessing\n",
    "\n",
    "x = df[['I3', 'I6', 'I14', 'X']].values # returns a numpy array\n",
    "min_max_scaler = preprocessing.MinMaxScaler()\n",
    "x_scaled = min_max_scaler.fit_transform(x)\n",
    "df_n = pd.DataFrame(x_scaled, columns=['I3', 'I6', 'I14', 'X'])"
   ]
  },
  {
   "cell_type": "code",
   "execution_count": 191,
   "metadata": {
    "collapsed": true
   },
   "outputs": [],
   "source": [
    "df_norm = df[['clusterID', 'target']].join(df_n)"
   ]
  },
  {
   "cell_type": "code",
   "execution_count": 192,
   "metadata": {
    "collapsed": false
   },
   "outputs": [
    {
     "data": {
      "text/html": [
       "<div>\n",
       "<style scoped>\n",
       "    .dataframe tbody tr th:only-of-type {\n",
       "        vertical-align: middle;\n",
       "    }\n",
       "\n",
       "    .dataframe tbody tr th {\n",
       "        vertical-align: top;\n",
       "    }\n",
       "\n",
       "    .dataframe thead th {\n",
       "        text-align: right;\n",
       "    }\n",
       "</style>\n",
       "<table border=\"1\" class=\"dataframe\">\n",
       "  <thead>\n",
       "    <tr style=\"text-align: right;\">\n",
       "      <th></th>\n",
       "      <th>clusterID</th>\n",
       "      <th>target</th>\n",
       "      <th>I3</th>\n",
       "      <th>I6</th>\n",
       "      <th>I14</th>\n",
       "      <th>X</th>\n",
       "    </tr>\n",
       "  </thead>\n",
       "  <tbody>\n",
       "    <tr>\n",
       "      <th>0</th>\n",
       "      <td>6</td>\n",
       "      <td>1</td>\n",
       "      <td>0.501320</td>\n",
       "      <td>0.624535</td>\n",
       "      <td>0.223294</td>\n",
       "      <td>0.066506</td>\n",
       "    </tr>\n",
       "    <tr>\n",
       "      <th>1</th>\n",
       "      <td>6</td>\n",
       "      <td>1</td>\n",
       "      <td>0.487258</td>\n",
       "      <td>0.623330</td>\n",
       "      <td>0.225077</td>\n",
       "      <td>0.062481</td>\n",
       "    </tr>\n",
       "    <tr>\n",
       "      <th>2</th>\n",
       "      <td>6</td>\n",
       "      <td>1</td>\n",
       "      <td>0.544073</td>\n",
       "      <td>0.686296</td>\n",
       "      <td>0.226294</td>\n",
       "      <td>0.068240</td>\n",
       "    </tr>\n",
       "    <tr>\n",
       "      <th>3</th>\n",
       "      <td>6</td>\n",
       "      <td>1</td>\n",
       "      <td>0.545072</td>\n",
       "      <td>0.671495</td>\n",
       "      <td>0.223935</td>\n",
       "      <td>0.071073</td>\n",
       "    </tr>\n",
       "    <tr>\n",
       "      <th>4</th>\n",
       "      <td>6</td>\n",
       "      <td>1</td>\n",
       "      <td>0.494891</td>\n",
       "      <td>0.577575</td>\n",
       "      <td>0.217747</td>\n",
       "      <td>0.074602</td>\n",
       "    </tr>\n",
       "  </tbody>\n",
       "</table>\n",
       "</div>"
      ],
      "text/plain": [
       "   clusterID  target        I3        I6       I14         X\n",
       "0          6       1  0.501320  0.624535  0.223294  0.066506\n",
       "1          6       1  0.487258  0.623330  0.225077  0.062481\n",
       "2          6       1  0.544073  0.686296  0.226294  0.068240\n",
       "3          6       1  0.545072  0.671495  0.223935  0.071073\n",
       "4          6       1  0.494891  0.577575  0.217747  0.074602"
      ]
     },
     "execution_count": 192,
     "metadata": {},
     "output_type": "execute_result"
    }
   ],
   "source": [
    "df_norm.head()"
   ]
  },
  {
   "cell_type": "markdown",
   "metadata": {},
   "source": [
    "### Splitting data into 10 parts "
   ]
  },
  {
   "cell_type": "code",
   "execution_count": 193,
   "metadata": {
    "collapsed": true
   },
   "outputs": [],
   "source": [
    "# separating classes\n",
    "df_1 = df_norm[df_norm.target==1]\n",
    "df_1 = df_1.sample(frac=1).reset_index(drop=True) # shuffling rows\n",
    "df_3 = df_norm[df_norm.target==3]"
   ]
  },
  {
   "cell_type": "code",
   "execution_count": 194,
   "metadata": {
    "collapsed": false
   },
   "outputs": [
    {
     "data": {
      "text/plain": [
       "(472987, 14630)"
      ]
     },
     "execution_count": 194,
     "metadata": {},
     "output_type": "execute_result"
    }
   ],
   "source": [
    "df_1.shape[0], df_3.shape[0]"
   ]
  },
  {
   "cell_type": "code",
   "execution_count": 195,
   "metadata": {
    "collapsed": false
   },
   "outputs": [],
   "source": [
    "df_1_split = np.split(df_1, np.arange(47300, 472987, 47300),axis=0) # splits dataframe (of Target=1) in 10 "
   ]
  },
  {
   "cell_type": "code",
   "execution_count": 196,
   "metadata": {
    "collapsed": false
   },
   "outputs": [
    {
     "data": {
      "text/plain": [
       "[(47300, 6),\n",
       " (47300, 6),\n",
       " (47300, 6),\n",
       " (47300, 6),\n",
       " (47300, 6),\n",
       " (47300, 6),\n",
       " (47300, 6),\n",
       " (47300, 6),\n",
       " (47300, 6),\n",
       " (47287, 6)]"
      ]
     },
     "execution_count": 196,
     "metadata": {},
     "output_type": "execute_result"
    }
   ],
   "source": [
    "[i.shape for i in df_1_split]"
   ]
  },
  {
   "cell_type": "code",
   "execution_count": 197,
   "metadata": {
    "collapsed": false
   },
   "outputs": [
    {
     "data": {
      "text/plain": [
       "(43890, 6)"
      ]
     },
     "execution_count": 197,
     "metadata": {},
     "output_type": "execute_result"
    }
   ],
   "source": [
    "df_3_dup = pd.concat([df_3]*3, ignore_index=True) # duplicate data (of Target=3) 3 times\n",
    "df_3_dup.shape"
   ]
  },
  {
   "cell_type": "code",
   "execution_count": 198,
   "metadata": {
    "collapsed": false
   },
   "outputs": [],
   "source": [
    "for i in range(len(df_1_split)):\n",
    "    df_1_split[i] = df_1_split[i].append(df_3_dup, ignore_index=True) # merge Target 1 and 3"
   ]
  },
  {
   "cell_type": "code",
   "execution_count": 199,
   "metadata": {
    "collapsed": false
   },
   "outputs": [
    {
     "data": {
      "text/plain": [
       "[(91190, 6),\n",
       " (91190, 6),\n",
       " (91190, 6),\n",
       " (91190, 6),\n",
       " (91190, 6),\n",
       " (91190, 6),\n",
       " (91190, 6),\n",
       " (91190, 6),\n",
       " (91190, 6),\n",
       " (91177, 6)]"
      ]
     },
     "execution_count": 199,
     "metadata": {},
     "output_type": "execute_result"
    }
   ],
   "source": [
    "[i.shape for i in df_1_split]"
   ]
  },
  {
   "cell_type": "code",
   "execution_count": 200,
   "metadata": {
    "collapsed": false
   },
   "outputs": [
    {
     "data": {
      "image/png": "[encoded data removed]",
      "text/plain": [
       "<Figure size 576x396 with 1 Axes>"
      ]
     },
     "metadata": {},
     "output_type": "display_data"
    }
   ],
   "source": [
    "df_1_split[9].target.value_counts().plot('bar');"
   ]
  },
  {
   "cell_type": "code",
   "execution_count": 201,
   "metadata": {
    "collapsed": true
   },
   "outputs": [],
   "source": [
    "# saving all parts\n",
    "# for i in range(len(df_1_split)):\n",
    "#     df_1_split[i].to_csv(f'land_train_split_{i+1}.csv', index=False)"
   ]
  },
  {
   "cell_type": "markdown",
   "metadata": {},
   "source": [
    "# Preprocessing Test Data"
   ]
  },
  {
   "cell_type": "code",
   "execution_count": 210,
   "metadata": {
    "collapsed": false
   },
   "outputs": [
    {
     "data": {
      "text/plain": [
       "(2000000, 13)"
      ]
     },
     "execution_count": 210,
     "metadata": {},
     "output_type": "execute_result"
    }
   ],
   "source": [
    "df_test = pd.read_csv('land_test.csv')\n",
    "df_test.shape"
   ]
  },
  {
   "cell_type": "code",
   "execution_count": 209,
   "metadata": {
    "collapsed": false
   },
   "outputs": [
    {
     "data": {
      "text/html": [
       "<div>\n",
       "<style scoped>\n",
       "    .dataframe tbody tr th:only-of-type {\n",
       "        vertical-align: middle;\n",
       "    }\n",
       "\n",
       "    .dataframe tbody tr th {\n",
       "        vertical-align: top;\n",
       "    }\n",
       "\n",
       "    .dataframe thead th {\n",
       "        text-align: right;\n",
       "    }\n",
       "</style>\n",
       "<table border=\"1\" class=\"dataframe\">\n",
       "  <thead>\n",
       "    <tr style=\"text-align: right;\">\n",
       "      <th></th>\n",
       "      <th>X1</th>\n",
       "      <th>X2</th>\n",
       "      <th>X3</th>\n",
       "      <th>X4</th>\n",
       "      <th>X5</th>\n",
       "      <th>X6</th>\n",
       "      <th>I1</th>\n",
       "      <th>I2</th>\n",
       "      <th>I3</th>\n",
       "      <th>I4</th>\n",
       "      <th>I5</th>\n",
       "      <th>I6</th>\n",
       "      <th>clusterID</th>\n",
       "    </tr>\n",
       "  </thead>\n",
       "  <tbody>\n",
       "    <tr>\n",
       "      <th>0</th>\n",
       "      <td>338</td>\n",
       "      <td>554</td>\n",
       "      <td>698</td>\n",
       "      <td>1605</td>\n",
       "      <td>1752</td>\n",
       "      <td>1310</td>\n",
       "      <td>0.393834</td>\n",
       "      <td>-0.350045</td>\n",
       "      <td>1.565423</td>\n",
       "      <td>0.311659</td>\n",
       "      <td>0.304781</td>\n",
       "      <td>-0.043789</td>\n",
       "      <td>6</td>\n",
       "    </tr>\n",
       "    <tr>\n",
       "      <th>1</th>\n",
       "      <td>667</td>\n",
       "      <td>976</td>\n",
       "      <td>1187</td>\n",
       "      <td>1834</td>\n",
       "      <td>1958</td>\n",
       "      <td>1653</td>\n",
       "      <td>0.214167</td>\n",
       "      <td>-0.181467</td>\n",
       "      <td>1.050679</td>\n",
       "      <td>0.196439</td>\n",
       "      <td>0.164085</td>\n",
       "      <td>-0.032700</td>\n",
       "      <td>4</td>\n",
       "    </tr>\n",
       "    <tr>\n",
       "      <th>2</th>\n",
       "      <td>249</td>\n",
       "      <td>420</td>\n",
       "      <td>402</td>\n",
       "      <td>1635</td>\n",
       "      <td>1318</td>\n",
       "      <td>736</td>\n",
       "      <td>0.605302</td>\n",
       "      <td>-0.712650</td>\n",
       "      <td>2.268984</td>\n",
       "      <td>0.441984</td>\n",
       "      <td>0.293497</td>\n",
       "      <td>0.107348</td>\n",
       "      <td>6</td>\n",
       "    </tr>\n",
       "    <tr>\n",
       "      <th>3</th>\n",
       "      <td>111</td>\n",
       "      <td>348</td>\n",
       "      <td>279</td>\n",
       "      <td>1842</td>\n",
       "      <td>743</td>\n",
       "      <td>328</td>\n",
       "      <td>0.736917</td>\n",
       "      <td>-1.162062</td>\n",
       "      <td>3.074176</td>\n",
       "      <td>0.551699</td>\n",
       "      <td>0.080725</td>\n",
       "      <td>0.425145</td>\n",
       "      <td>6</td>\n",
       "    </tr>\n",
       "    <tr>\n",
       "      <th>4</th>\n",
       "      <td>349</td>\n",
       "      <td>559</td>\n",
       "      <td>642</td>\n",
       "      <td>1534</td>\n",
       "      <td>1544</td>\n",
       "      <td>989</td>\n",
       "      <td>0.409926</td>\n",
       "      <td>-0.406678</td>\n",
       "      <td>1.607795</td>\n",
       "      <td>0.323984</td>\n",
       "      <td>0.212753</td>\n",
       "      <td>-0.003249</td>\n",
       "      <td>6</td>\n",
       "    </tr>\n",
       "  </tbody>\n",
       "</table>\n",
       "</div>"
      ],
      "text/plain": [
       "    X1   X2    X3    X4    X5    X6        I1        I2        I3        I4  \\\n",
       "0  338  554   698  1605  1752  1310  0.393834 -0.350045  1.565423  0.311659   \n",
       "1  667  976  1187  1834  1958  1653  0.214167 -0.181467  1.050679  0.196439   \n",
       "2  249  420   402  1635  1318   736  0.605302 -0.712650  2.268984  0.441984   \n",
       "3  111  348   279  1842   743   328  0.736917 -1.162062  3.074176  0.551699   \n",
       "4  349  559   642  1534  1544   989  0.409926 -0.406678  1.607795  0.323984   \n",
       "\n",
       "         I5        I6  clusterID  \n",
       "0  0.304781 -0.043789          6  \n",
       "1  0.164085 -0.032700          4  \n",
       "2  0.293497  0.107348          6  \n",
       "3  0.080725  0.425145          6  \n",
       "4  0.212753 -0.003249          6  "
      ]
     },
     "execution_count": 209,
     "metadata": {},
     "output_type": "execute_result"
    }
   ],
   "source": [
    "df_test.head()"
   ]
  },
  {
   "cell_type": "code",
   "execution_count": 211,
   "metadata": {
    "collapsed": true
   },
   "outputs": [],
   "source": [
    "# preprocessing columns\n",
    "df_test['X'] = df_test[['X1', 'X2', 'X3', 'X4', 'X5', 'X6']].mean(axis=1) # merging all X features in one\n",
    "df_test = df_test.drop(['X1', 'X2', 'X3', 'X4', 'X5', 'X6'], axis=1)      # dropping the rest\n",
    "df_test['I14'] = df_test[['I1', 'I4']].mean(axis=1)                       # averaging I1 and I4\n",
    "df_test = df_test.drop(['I1', 'I4', 'I2', 'I5'], axis=1)                  # dropping the rest"
   ]
  },
  {
   "cell_type": "code",
   "execution_count": 213,
   "metadata": {
    "collapsed": false
   },
   "outputs": [],
   "source": [
    "x_test = df_test[['I3', 'I6', 'I14', 'X']].values # returns a numpy array\n",
    "x_test_scaled = min_max_scaler.transform(x_test)  # applying scaler\n",
    "df_test_n = pd.DataFrame(x_test_scaled, columns=['I3', 'I6', 'I14', 'X'])\n",
    "df_test_norm = df_test[['clusterID']].join(df_test_n)"
   ]
  },
  {
   "cell_type": "code",
   "execution_count": 219,
   "metadata": {
    "collapsed": false
   },
   "outputs": [
    {
     "data": {
      "text/plain": [
       "(2000000, 5)"
      ]
     },
     "execution_count": 219,
     "metadata": {},
     "output_type": "execute_result"
    }
   ],
   "source": [
    "df_test_norm.shape"
   ]
  },
  {
   "cell_type": "code",
   "execution_count": 220,
   "metadata": {
    "collapsed": false
   },
   "outputs": [
    {
     "data": {
      "text/html": [
       "<div>\n",
       "<style scoped>\n",
       "    .dataframe tbody tr th:only-of-type {\n",
       "        vertical-align: middle;\n",
       "    }\n",
       "\n",
       "    .dataframe tbody tr th {\n",
       "        vertical-align: top;\n",
       "    }\n",
       "\n",
       "    .dataframe thead th {\n",
       "        text-align: right;\n",
       "    }\n",
       "</style>\n",
       "<table border=\"1\" class=\"dataframe\">\n",
       "  <thead>\n",
       "    <tr style=\"text-align: right;\">\n",
       "      <th></th>\n",
       "      <th>clusterID</th>\n",
       "      <th>I3</th>\n",
       "      <th>I6</th>\n",
       "      <th>I14</th>\n",
       "      <th>X</th>\n",
       "    </tr>\n",
       "  </thead>\n",
       "  <tbody>\n",
       "    <tr>\n",
       "      <th>0</th>\n",
       "      <td>6</td>\n",
       "      <td>0.298382</td>\n",
       "      <td>0.264280</td>\n",
       "      <td>0.181902</td>\n",
       "      <td>0.104635</td>\n",
       "    </tr>\n",
       "    <tr>\n",
       "      <th>1</th>\n",
       "      <td>4</td>\n",
       "      <td>0.210245</td>\n",
       "      <td>0.275830</td>\n",
       "      <td>0.159576</td>\n",
       "      <td>0.135875</td>\n",
       "    </tr>\n",
       "    <tr>\n",
       "      <th>2</th>\n",
       "      <td>6</td>\n",
       "      <td>0.418850</td>\n",
       "      <td>0.421701</td>\n",
       "      <td>0.207780</td>\n",
       "      <td>0.081460</td>\n",
       "    </tr>\n",
       "    <tr>\n",
       "      <th>3</th>\n",
       "      <td>6</td>\n",
       "      <td>0.556720</td>\n",
       "      <td>0.752709</td>\n",
       "      <td>0.226051</td>\n",
       "      <td>0.064292</td>\n",
       "    </tr>\n",
       "    <tr>\n",
       "      <th>4</th>\n",
       "      <td>6</td>\n",
       "      <td>0.305637</td>\n",
       "      <td>0.306505</td>\n",
       "      <td>0.184054</td>\n",
       "      <td>0.094727</td>\n",
       "    </tr>\n",
       "  </tbody>\n",
       "</table>\n",
       "</div>"
      ],
      "text/plain": [
       "   clusterID        I3        I6       I14         X\n",
       "0          6  0.298382  0.264280  0.181902  0.104635\n",
       "1          4  0.210245  0.275830  0.159576  0.135875\n",
       "2          6  0.418850  0.421701  0.207780  0.081460\n",
       "3          6  0.556720  0.752709  0.226051  0.064292\n",
       "4          6  0.305637  0.306505  0.184054  0.094727"
      ]
     },
     "execution_count": 220,
     "metadata": {},
     "output_type": "execute_result"
    }
   ],
   "source": [
    "df_test_norm.head()"
   ]
  },
  {
   "cell_type": "code",
   "execution_count": 215,
   "metadata": {
    "collapsed": false
   },
   "outputs": [],
   "source": [
    "# df_test_norm.to_csv('land_test_preprocessed.csv')"
   ]
  },
  {
   "cell_type": "markdown",
   "metadata": {},
   "source": [
    "# Model"
   ]
  },
  {
   "cell_type": "code",
   "execution_count": 2,
   "metadata": {
    "collapsed": true
   },
   "outputs": [],
   "source": [
    "from sklearn.tree import DecisionTreeClassifier\n",
    "from sklearn.neighbors import KNeighborsClassifier\n",
    "from sklearn.linear_model import LogisticRegression\n",
    "from sklearn.naive_bayes import GaussianNB\n",
    "from sklearn.naive_bayes import MultinomialNB\n",
    "from sklearn.naive_bayes import BernoulliNB\n",
    "from sklearn.neural_network import MLPClassifier\n",
    "from sklearn import svm\n",
    "from sklearn.ensemble import RandomForestClassifier, AdaBoostClassifier\n",
    "from sklearn.metrics import precision_score, recall_score, f1_score\n",
    "from sklearn.metrics import confusion_matrix"
   ]
  },
  {
   "cell_type": "code",
   "execution_count": 3,
   "metadata": {
    "collapsed": false
   },
   "outputs": [],
   "source": [
    "# different classifiers\n",
    "num_models = [KNeighborsClassifier(n_neighbors=5), svm.SVC(), LogisticRegression(), GaussianNB(),\n",
    "              AdaBoostClassifier(), BernoulliNB(), MLPClassifier(),\n",
    "              RandomForestClassifier(), DecisionTreeClassifier('entropy')]"
   ]
  },
  {
   "cell_type": "code",
   "execution_count": 4,
   "metadata": {
    "collapsed": false
   },
   "outputs": [
    {
     "name": "stdout",
     "output_type": "stream",
     "text": [
      "Model 9 trained.\r"
     ]
    }
   ],
   "source": [
    "# training 9 different model on different data splits\n",
    "# taking average of 9 predictions while testing\n",
    "# testing set is the 10th data split\n",
    "\n",
    "models = []\n",
    "for i in range(9):\n",
    "    df_train = pd.read_csv('land_train_split_{}.csv'.format(i+1))\n",
    "    df_train = df_train.sample(frac=1).reset_index(drop=True)\n",
    "\n",
    "    x = df_train.drop('target', axis=1).values\n",
    "    y = df_train.target.values\n",
    "    \n",
    "    model = num_models[7]\n",
    "    models.append(model.fit(x, y))\n",
    "    \n",
    "    print(f'Model {i+1} trained.', end='\\r')"
   ]
  },
  {
   "cell_type": "code",
   "execution_count": 5,
   "metadata": {
    "collapsed": false
   },
   "outputs": [],
   "source": [
    "# loading the test set\n",
    "df_test = pd.read_csv('land_train_split_10.csv')\n",
    "df_test = df_test.sample(frac=1).reset_index(drop=True)\n",
    "\n",
    "x_test = df_test.drop('target', axis=1).values\n",
    "y_test = df_test.target.values"
   ]
  },
  {
   "cell_type": "code",
   "execution_count": 30,
   "metadata": {
    "collapsed": false
   },
   "outputs": [],
   "source": [
    "# making predictions\n",
    "predictions = []\n",
    "for i in range(9):\n",
    "    predictions.append(list(models[i].predict(x_test)))\n",
    "predictions = np.array(predictions)"
   ]
  },
  {
   "cell_type": "code",
   "execution_count": 31,
   "metadata": {
    "collapsed": false
   },
   "outputs": [],
   "source": [
    "# getting the mojority Class\n",
    "\n",
    "pred_maj = []\n",
    "for i in range(predictions.shape[1]):\n",
    "    (values, counts) = np.unique(predictions[:,i], return_counts=True)\n",
    "    pred_maj.append(values[np.argmax(counts)])\n",
    "pred_maj = np.array(pred_maj)"
   ]
  },
  {
   "cell_type": "code",
   "execution_count": 32,
   "metadata": {
    "collapsed": false
   },
   "outputs": [
    {
     "name": "stdout",
     "output_type": "stream",
     "text": [
      "Accuracy: 97.58%\n",
      "Precision: 0.98\n",
      "Recall: 0.97\n",
      "F1 score: 0.98\n"
     ]
    },
    {
     "data": {
      "image/png": "[encoded data removed]",
      "text/plain": [
       "<Figure size 432x288 with 2 Axes>"
      ]
     },
     "metadata": {},
     "output_type": "display_data"
    }
   ],
   "source": [
    "print('Accuracy: {:.2f}%'.format(np.mean(pred_maj==y_test)*100))\n",
    "\n",
    "precision, recall, f1 = precision_score(y_test, pred_maj), recall_score(y_test, pred_maj), f1_score(y_test, pred_maj)\n",
    "print('Precision: {:.2f}\\nRecall: {:.2f}\\nF1 score: {:.2f}'.format(precision, recall, f1))\n",
    "\n",
    "cm = confusion_matrix(y_test, pred_maj, labels=[1,3])\n",
    "sns.heatmap(cm, xticklabels=['False', 'True'], yticklabels=['Negative', 'Positive'])\n",
    "plt.xlabel('Predicted')\n",
    "plt.ylabel('Actual')\n",
    "plt.title('Confusion matrix');"
   ]
  },
  {
   "cell_type": "markdown",
   "metadata": {},
   "source": [
    "# Results\n",
    "\n",
    "| Classifier | Accuracy | F1 Score |\n",
    "| ---------- | -------- | -- |\n",
    "| Decision Tree (Entropy) | 99.11% | 0.99 |\n",
    "| Decision Tree (Gini) | 99.15% | 0.99 |\n",
    "| Random Forest | 99.23% | 0.99 |\n",
    "| KNN | 98.53% | 0.99 |\n",
    "| Logistic Regression | 91.38% | 0.92 |\n",
    "| Gaussian Naive Bayes | 89.83% | 0.90 |\n",
    "| Bernoulli Naive Bayes | 51.86% | 0.68 |\n",
    "| Adaboost Classifier | 95.87% | 0.90 |\n",
    "| ANN | 89.83% | 0.90 |\n",
    "| All | 97.58% | 0.98 |\n"
   ]
  },
  {
   "cell_type": "markdown",
   "metadata": {
    "collapsed": true
   },
   "source": [
    "# Getting predictions for test set"
   ]
  },
  {
   "cell_type": "code",
   "execution_count": 21,
   "metadata": {
    "collapsed": false
   },
   "outputs": [
    {
     "data": {
      "text/html": [
       "<div>\n",
       "<style scoped>\n",
       "    .dataframe tbody tr th:only-of-type {\n",
       "        vertical-align: middle;\n",
       "    }\n",
       "\n",
       "    .dataframe tbody tr th {\n",
       "        vertical-align: top;\n",
       "    }\n",
       "\n",
       "    .dataframe thead th {\n",
       "        text-align: right;\n",
       "    }\n",
       "</style>\n",
       "<table border=\"1\" class=\"dataframe\">\n",
       "  <thead>\n",
       "    <tr style=\"text-align: right;\">\n",
       "      <th></th>\n",
       "      <th>clusterID</th>\n",
       "      <th>I3</th>\n",
       "      <th>I6</th>\n",
       "      <th>I14</th>\n",
       "      <th>X</th>\n",
       "    </tr>\n",
       "  </thead>\n",
       "  <tbody>\n",
       "    <tr>\n",
       "      <th>0</th>\n",
       "      <td>6</td>\n",
       "      <td>0.298382</td>\n",
       "      <td>0.264280</td>\n",
       "      <td>0.181902</td>\n",
       "      <td>0.104635</td>\n",
       "    </tr>\n",
       "    <tr>\n",
       "      <th>1</th>\n",
       "      <td>4</td>\n",
       "      <td>0.210245</td>\n",
       "      <td>0.275830</td>\n",
       "      <td>0.159576</td>\n",
       "      <td>0.135875</td>\n",
       "    </tr>\n",
       "    <tr>\n",
       "      <th>2</th>\n",
       "      <td>6</td>\n",
       "      <td>0.418850</td>\n",
       "      <td>0.421701</td>\n",
       "      <td>0.207780</td>\n",
       "      <td>0.081460</td>\n",
       "    </tr>\n",
       "    <tr>\n",
       "      <th>3</th>\n",
       "      <td>6</td>\n",
       "      <td>0.556720</td>\n",
       "      <td>0.752709</td>\n",
       "      <td>0.226051</td>\n",
       "      <td>0.064292</td>\n",
       "    </tr>\n",
       "    <tr>\n",
       "      <th>4</th>\n",
       "      <td>6</td>\n",
       "      <td>0.305637</td>\n",
       "      <td>0.306505</td>\n",
       "      <td>0.184054</td>\n",
       "      <td>0.094727</td>\n",
       "    </tr>\n",
       "  </tbody>\n",
       "</table>\n",
       "</div>"
      ],
      "text/plain": [
       "   clusterID        I3        I6       I14         X\n",
       "0          6  0.298382  0.264280  0.181902  0.104635\n",
       "1          4  0.210245  0.275830  0.159576  0.135875\n",
       "2          6  0.418850  0.421701  0.207780  0.081460\n",
       "3          6  0.556720  0.752709  0.226051  0.064292\n",
       "4          6  0.305637  0.306505  0.184054  0.094727"
      ]
     },
     "execution_count": 21,
     "metadata": {},
     "output_type": "execute_result"
    }
   ],
   "source": [
    "df_test_set = pd.read_csv(\"land_test_preprocessed.csv\")\n",
    "df_test_set.drop('Unnamed: 0', inplace=True, axis=1)\n",
    "df_test_set.head()"
   ]
  },
  {
   "cell_type": "code",
   "execution_count": 39,
   "metadata": {
    "collapsed": false
   },
   "outputs": [],
   "source": [
    "# predictions\n",
    "predictions = []\n",
    "for i in range(9):\n",
    "    predictions.append(list(models[i].predict(df_test_set.values)))\n",
    "predictions = np.array(predictions)"
   ]
  },
  {
   "cell_type": "code",
   "execution_count": 40,
   "metadata": {
    "collapsed": true
   },
   "outputs": [],
   "source": [
    "# getting the mojority Class\n",
    "pred_maj = []\n",
    "for i in range(predictions.shape[1]):\n",
    "    (values, counts) = np.unique(predictions[:,i], return_counts=True)\n",
    "    pred_maj.append(values[np.argmax(counts)])\n",
    "pred_maj = np.array(pred_maj)"
   ]
  },
  {
   "cell_type": "code",
   "execution_count": 41,
   "metadata": {
    "collapsed": false
   },
   "outputs": [
    {
     "data": {
      "text/plain": [
       "(2000000,)"
      ]
     },
     "execution_count": 41,
     "metadata": {},
     "output_type": "execute_result"
    }
   ],
   "source": [
    "pred_maj.shape"
   ]
  },
  {
   "cell_type": "code",
   "execution_count": 45,
   "metadata": {
    "collapsed": false
   },
   "outputs": [
    {
     "data": {
      "text/html": [
       "<div>\n",
       "<style scoped>\n",
       "    .dataframe tbody tr th:only-of-type {\n",
       "        vertical-align: middle;\n",
       "    }\n",
       "\n",
       "    .dataframe tbody tr th {\n",
       "        vertical-align: top;\n",
       "    }\n",
       "\n",
       "    .dataframe thead th {\n",
       "        text-align: right;\n",
       "    }\n",
       "</style>\n",
       "<table border=\"1\" class=\"dataframe\">\n",
       "  <thead>\n",
       "    <tr style=\"text-align: right;\">\n",
       "      <th></th>\n",
       "      <th>target</th>\n",
       "    </tr>\n",
       "  </thead>\n",
       "  <tbody>\n",
       "    <tr>\n",
       "      <th>0</th>\n",
       "      <td>3</td>\n",
       "    </tr>\n",
       "    <tr>\n",
       "      <th>1</th>\n",
       "      <td>3</td>\n",
       "    </tr>\n",
       "    <tr>\n",
       "      <th>2</th>\n",
       "      <td>1</td>\n",
       "    </tr>\n",
       "    <tr>\n",
       "      <th>3</th>\n",
       "      <td>1</td>\n",
       "    </tr>\n",
       "    <tr>\n",
       "      <th>4</th>\n",
       "      <td>3</td>\n",
       "    </tr>\n",
       "  </tbody>\n",
       "</table>\n",
       "</div>"
      ],
      "text/plain": [
       "   target\n",
       "0       3\n",
       "1       3\n",
       "2       1\n",
       "3       1\n",
       "4       3"
      ]
     },
     "execution_count": 45,
     "metadata": {},
     "output_type": "execute_result"
    }
   ],
   "source": [
    "df_sub = pd.DataFrame(pred_maj, columns=['target'])\n",
    "df_sub.head()"
   ]
  },
  {
   "cell_type": "code",
   "execution_count": 46,
   "metadata": {
    "collapsed": true
   },
   "outputs": [],
   "source": [
    "df_sub.to_csv('submission.csv', index=False)"
   ]
  },
  {
   "cell_type": "markdown",
   "metadata": {
    "collapsed": true
   },
   "source": [
    "# Analysis"
   ]
  },
  {
   "cell_type": "code",
   "execution_count": 5,
   "metadata": {
    "collapsed": false
   },
   "outputs": [],
   "source": [
    "dfa = pd.read_csv('land_train_split_1.csv')"
   ]
  },
  {
   "cell_type": "code",
   "execution_count": 6,
   "metadata": {
    "collapsed": false,
    "scrolled": true
   },
   "outputs": [
    {
     "data": {
      "text/html": [
       "<div>\n",
       "<style scoped>\n",
       "    .dataframe tbody tr th:only-of-type {\n",
       "        vertical-align: middle;\n",
       "    }\n",
       "\n",
       "    .dataframe tbody tr th {\n",
       "        vertical-align: top;\n",
       "    }\n",
       "\n",
       "    .dataframe thead th {\n",
       "        text-align: right;\n",
       "    }\n",
       "</style>\n",
       "<table border=\"1\" class=\"dataframe\">\n",
       "  <thead>\n",
       "    <tr style=\"text-align: right;\">\n",
       "      <th></th>\n",
       "      <th>target</th>\n",
       "      <th>1</th>\n",
       "      <th>3</th>\n",
       "    </tr>\n",
       "  </thead>\n",
       "  <tbody>\n",
       "    <tr>\n",
       "      <th rowspan=\"8\" valign=\"top\">I14</th>\n",
       "      <th>count</th>\n",
       "      <td>47300.000000</td>\n",
       "      <td>43890.000000</td>\n",
       "    </tr>\n",
       "    <tr>\n",
       "      <th>mean</th>\n",
       "      <td>0.172823</td>\n",
       "      <td>0.178143</td>\n",
       "    </tr>\n",
       "    <tr>\n",
       "      <th>std</th>\n",
       "      <td>0.038544</td>\n",
       "      <td>0.010856</td>\n",
       "    </tr>\n",
       "    <tr>\n",
       "      <th>min</th>\n",
       "      <td>0.126043</td>\n",
       "      <td>0.128314</td>\n",
       "    </tr>\n",
       "    <tr>\n",
       "      <th>25%</th>\n",
       "      <td>0.138245</td>\n",
       "      <td>0.172255</td>\n",
       "    </tr>\n",
       "    <tr>\n",
       "      <th>50%</th>\n",
       "      <td>0.153272</td>\n",
       "      <td>0.177356</td>\n",
       "    </tr>\n",
       "    <tr>\n",
       "      <th>75%</th>\n",
       "      <td>0.208025</td>\n",
       "      <td>0.183939</td>\n",
       "    </tr>\n",
       "    <tr>\n",
       "      <th>max</th>\n",
       "      <td>0.313051</td>\n",
       "      <td>0.236896</td>\n",
       "    </tr>\n",
       "    <tr>\n",
       "      <th rowspan=\"8\" valign=\"top\">I3</th>\n",
       "      <th>count</th>\n",
       "      <td>47300.000000</td>\n",
       "      <td>43890.000000</td>\n",
       "    </tr>\n",
       "    <tr>\n",
       "      <th>mean</th>\n",
       "      <td>0.303832</td>\n",
       "      <td>0.300403</td>\n",
       "    </tr>\n",
       "    <tr>\n",
       "      <th>std</th>\n",
       "      <td>0.192337</td>\n",
       "      <td>0.065502</td>\n",
       "    </tr>\n",
       "    <tr>\n",
       "      <th>min</th>\n",
       "      <td>0.005789</td>\n",
       "      <td>0.024574</td>\n",
       "    </tr>\n",
       "    <tr>\n",
       "      <th>25%</th>\n",
       "      <td>0.145690</td>\n",
       "      <td>0.265956</td>\n",
       "    </tr>\n",
       "    <tr>\n",
       "      <th>50%</th>\n",
       "      <td>0.234960</td>\n",
       "      <td>0.289333</td>\n",
       "    </tr>\n",
       "    <tr>\n",
       "      <th>75%</th>\n",
       "      <td>0.455870</td>\n",
       "      <td>0.326778</td>\n",
       "    </tr>\n",
       "    <tr>\n",
       "      <th>max</th>\n",
       "      <td>0.908952</td>\n",
       "      <td>0.874047</td>\n",
       "    </tr>\n",
       "    <tr>\n",
       "      <th rowspan=\"8\" valign=\"top\">I6</th>\n",
       "      <th>count</th>\n",
       "      <td>47300.000000</td>\n",
       "      <td>43890.000000</td>\n",
       "    </tr>\n",
       "    <tr>\n",
       "      <th>mean</th>\n",
       "      <td>0.418548</td>\n",
       "      <td>0.235797</td>\n",
       "    </tr>\n",
       "    <tr>\n",
       "      <th>std</th>\n",
       "      <td>0.151682</td>\n",
       "      <td>0.076489</td>\n",
       "    </tr>\n",
       "    <tr>\n",
       "      <th>min</th>\n",
       "      <td>0.077088</td>\n",
       "      <td>0.029555</td>\n",
       "    </tr>\n",
       "    <tr>\n",
       "      <th>25%</th>\n",
       "      <td>0.330767</td>\n",
       "      <td>0.190215</td>\n",
       "    </tr>\n",
       "    <tr>\n",
       "      <th>50%</th>\n",
       "      <td>0.371948</td>\n",
       "      <td>0.218487</td>\n",
       "    </tr>\n",
       "    <tr>\n",
       "      <th>75%</th>\n",
       "      <td>0.483560</td>\n",
       "      <td>0.258432</td>\n",
       "    </tr>\n",
       "    <tr>\n",
       "      <th>max</th>\n",
       "      <td>0.947382</td>\n",
       "      <td>0.818775</td>\n",
       "    </tr>\n",
       "    <tr>\n",
       "      <th rowspan=\"8\" valign=\"top\">X</th>\n",
       "      <th>count</th>\n",
       "      <td>47300.000000</td>\n",
       "      <td>43890.000000</td>\n",
       "    </tr>\n",
       "    <tr>\n",
       "      <th>mean</th>\n",
       "      <td>0.251571</td>\n",
       "      <td>0.131445</td>\n",
       "    </tr>\n",
       "    <tr>\n",
       "      <th>std</th>\n",
       "      <td>0.172705</td>\n",
       "      <td>0.032215</td>\n",
       "    </tr>\n",
       "    <tr>\n",
       "      <th>min</th>\n",
       "      <td>0.015047</td>\n",
       "      <td>0.061382</td>\n",
       "    </tr>\n",
       "    <tr>\n",
       "      <th>25%</th>\n",
       "      <td>0.101817</td>\n",
       "      <td>0.112948</td>\n",
       "    </tr>\n",
       "    <tr>\n",
       "      <th>50%</th>\n",
       "      <td>0.202729</td>\n",
       "      <td>0.126339</td>\n",
       "    </tr>\n",
       "    <tr>\n",
       "      <th>75%</th>\n",
       "      <td>0.388372</td>\n",
       "      <td>0.142888</td>\n",
       "    </tr>\n",
       "    <tr>\n",
       "      <th>max</th>\n",
       "      <td>0.992523</td>\n",
       "      <td>0.519661</td>\n",
       "    </tr>\n",
       "    <tr>\n",
       "      <th rowspan=\"8\" valign=\"top\">clusterID</th>\n",
       "      <th>count</th>\n",
       "      <td>47300.000000</td>\n",
       "      <td>43890.000000</td>\n",
       "    </tr>\n",
       "    <tr>\n",
       "      <th>mean</th>\n",
       "      <td>4.127294</td>\n",
       "      <td>5.833698</td>\n",
       "    </tr>\n",
       "    <tr>\n",
       "      <th>std</th>\n",
       "      <td>1.634507</td>\n",
       "      <td>0.906823</td>\n",
       "    </tr>\n",
       "    <tr>\n",
       "      <th>min</th>\n",
       "      <td>1.000000</td>\n",
       "      <td>1.000000</td>\n",
       "    </tr>\n",
       "    <tr>\n",
       "      <th>25%</th>\n",
       "      <td>3.000000</td>\n",
       "      <td>6.000000</td>\n",
       "    </tr>\n",
       "    <tr>\n",
       "      <th>50%</th>\n",
       "      <td>3.000000</td>\n",
       "      <td>6.000000</td>\n",
       "    </tr>\n",
       "    <tr>\n",
       "      <th>75%</th>\n",
       "      <td>6.000000</td>\n",
       "      <td>6.000000</td>\n",
       "    </tr>\n",
       "    <tr>\n",
       "      <th>max</th>\n",
       "      <td>8.000000</td>\n",
       "      <td>8.000000</td>\n",
       "    </tr>\n",
       "  </tbody>\n",
       "</table>\n",
       "</div>"
      ],
      "text/plain": [
       "target                      1             3\n",
       "I14       count  47300.000000  43890.000000\n",
       "          mean       0.172823      0.178143\n",
       "          std        0.038544      0.010856\n",
       "          min        0.126043      0.128314\n",
       "          25%        0.138245      0.172255\n",
       "          50%        0.153272      0.177356\n",
       "          75%        0.208025      0.183939\n",
       "          max        0.313051      0.236896\n",
       "I3        count  47300.000000  43890.000000\n",
       "          mean       0.303832      0.300403\n",
       "          std        0.192337      0.065502\n",
       "          min        0.005789      0.024574\n",
       "          25%        0.145690      0.265956\n",
       "          50%        0.234960      0.289333\n",
       "          75%        0.455870      0.326778\n",
       "          max        0.908952      0.874047\n",
       "I6        count  47300.000000  43890.000000\n",
       "          mean       0.418548      0.235797\n",
       "          std        0.151682      0.076489\n",
       "          min        0.077088      0.029555\n",
       "          25%        0.330767      0.190215\n",
       "          50%        0.371948      0.218487\n",
       "          75%        0.483560      0.258432\n",
       "          max        0.947382      0.818775\n",
       "X         count  47300.000000  43890.000000\n",
       "          mean       0.251571      0.131445\n",
       "          std        0.172705      0.032215\n",
       "          min        0.015047      0.061382\n",
       "          25%        0.101817      0.112948\n",
       "          50%        0.202729      0.126339\n",
       "          75%        0.388372      0.142888\n",
       "          max        0.992523      0.519661\n",
       "clusterID count  47300.000000  43890.000000\n",
       "          mean       4.127294      5.833698\n",
       "          std        1.634507      0.906823\n",
       "          min        1.000000      1.000000\n",
       "          25%        3.000000      6.000000\n",
       "          50%        3.000000      6.000000\n",
       "          75%        6.000000      6.000000\n",
       "          max        8.000000      8.000000"
      ]
     },
     "execution_count": 6,
     "metadata": {},
     "output_type": "execute_result"
    }
   ],
   "source": [
    "dfa.groupby(dfa.target).describe().T"
   ]
  },
  {
   "cell_type": "code",
   "execution_count": null,
   "metadata": {
    "collapsed": false
   },
   "outputs": [],
   "source": [
    "estimator = models[0].estimators_[5]\n",
    "\n",
    "from sklearn.tree import export_graphviz\n",
    "# Export as dot file\n",
    "export_graphviz(estimator, out_file='tree.dot', \n",
    "                feature_names = ['clusterID', 'I3', 'I6', 'I14', 'X'],\n",
    "                class_names = ['1', '3'],\n",
    "                rounded = True, proportion = False, \n",
    "                precision = 2, filled = True)\n",
    "\n",
    "# Convert to png using system command (requires Graphviz)\n",
    "import pydot\n",
    "(graph,) = pydot.graph_from_dot_file('tree.dot')\n",
    "graph.write_png('somefile.png')"
   ]
  },
  {
   "cell_type": "code",
   "execution_count": 28,
   "metadata": {
    "collapsed": false
   },
   "outputs": [],
   "source": [
    "# taking sum of all GINI indexes\n",
    "a = models[0].feature_importances_\n",
    "for i in range(8):\n",
    "    a += models[i+1].feature_importances_"
   ]
  },
  {
   "cell_type": "code",
   "execution_count": 31,
   "metadata": {
    "collapsed": false
   },
   "outputs": [
    {
     "data": {
      "text/plain": [
       "array([2.10152634, 0.58177282, 3.40019577, 2.06218839, 0.85431669])"
      ]
     },
     "execution_count": 31,
     "metadata": {},
     "output_type": "execute_result"
    }
   ],
   "source": [
    "a"
   ]
  },
  {
   "cell_type": "markdown",
   "metadata": {},
   "source": [
    "The model cannot be visualized because of its size, so I have taken the sum of <b>gini index</b> of attributes, which are shown below.<br>\n",
    "clusterID: 2.10 <br>\n",
    "I3: 0.58 <br>\n",
    "I6: 3.40 <br>\n",
    "I14: 2.06 <br>\n",
    "X: 0.85 <br>\n",
    "<hr>\n",
    "Clearly, $I6$ classifies the data best."
   ]
  },
  {
   "cell_type": "code",
   "execution_count": null,
   "metadata": {
    "collapsed": true
   },
   "outputs": [],
   "source": []
  }
 ],
 "metadata": {
  "kernelspec": {
   "display_name": "Python 3",
   "language": "python",
   "name": "python3"
  },
  "language_info": {
   "codemirror_mode": {
    "name": "ipython",
    "version": 3
   },
   "file_extension": ".py",
   "mimetype": "text/x-python",
   "name": "python",
   "nbconvert_exporter": "python",
   "pygments_lexer": "ipython3",
   "version": "3.6.5"
  }
 },
 "nbformat": 4,
 "nbformat_minor": 2
}
